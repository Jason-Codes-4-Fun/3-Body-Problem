{
 "cells": [
  {
   "cell_type": "code",
   "execution_count": 32,
   "id": "d393a47d",
   "metadata": {},
   "outputs": [],
   "source": [
    "import numpy as np\n",
    "import sympy as smp\n",
    "from scipy.integrate import odeint\n",
    "import matplotlib.pyplot as plt\n",
    "from matplotlib import animation\n",
    "from mpl_toolkits.mplot3d import Axes3D\n",
    "from matplotlib.animation import PillowWriter"
   ]
  },
  {
   "cell_type": "markdown",
   "id": "c161fa04",
   "metadata": {},
   "source": [
    " <h2><center>Purpose</center></h2>Purpose\n",
    "The following code assembles a series of lagrangians which can be used to set up two coupled differential equations. These equations are then solved to give an animation in matplotlib. The current animation chosen will be a 2D animation of the 3 body problem from classical physics."
   ]
  },
  {
   "cell_type": "code",
   "execution_count": 33,
   "id": "7065af15",
   "metadata": {},
   "outputs": [],
   "source": [
    "#here we define our variables and functions for sympy to use\n",
    "G = smp.symbols('G')\n",
    "t = smp.symbols('t')\n",
    "m1,m2,m3 = smp.symbols('m_{1} m_{2} m_{3}')\n",
    "x1,x2,x3,y1,y2,y3 = smp.symbols('x_{1} x_{2} x_{3} y_{1} y_{2} y_{3}', cls=smp.Function)\n",
    "\n",
    "x1=x1(t)\n",
    "x2=x2(t)\n",
    "x3=x3(t)\n",
    "y1=y1(t)\n",
    "y2=y2(t)\n",
    "y3=y3(t)"
   ]
  },
  {
   "cell_type": "code",
   "execution_count": 34,
   "id": "744bf63d",
   "metadata": {},
   "outputs": [],
   "source": [
    "#I decided to organize the valiables into a matrix setup so it's easier for sympy to perform various operations\n",
    "pos = smp.Matrix([x1,y1,x2,y2,x3,y3])\n",
    "vel = pos.diff(t)\n",
    "acc = vel.diff(t)\n",
    "masses = smp.Matrix([m1,m2,m3])"
   ]
  },
  {
   "cell_type": "markdown",
   "id": "92e6398a",
   "metadata": {},
   "source": [
    "<h2><center>Setting up the lagrangian</center></h2>\n",
    "\n",
    "\n",
    "\n",
    "<center>We want to set up the lagrangians for the object </center>\n",
    "\n",
    "$$\n",
    "  V = -G \\left( \\frac{m_1 m_2}{r_{12}} + \\frac{m_2 m_3}{r_{23}} + \\frac{m_3 m_1}{r_{31}} \\right)\n",
    "$$\n",
    "\n",
    "$$\n",
    "  T = \\frac{1}{2} \\left( m_1 v_1^2 + m_2 v_2^2 + m_3 v_3^2 \\right)\n",
    "$$\n",
    "\n"
   ]
  },
  {
   "cell_type": "code",
   "execution_count": 37,
   "id": "2745ab4c",
   "metadata": {},
   "outputs": [],
   "source": [
    "#There's a little bit of complicated arithmatic involved here to organize the kinetic and potential energy\n",
    "\n",
    "T=0\n",
    "for i in range(0,len(vel),2):\n",
    "    T+=(1/2)*masses[int(i/2)]*(vel[i]**2+vel[i+1]**2)\n",
    "    \n",
    "#Here I prefered to use modulus to cycle through all combinations of mass products efficiently\n",
    "V=0\n",
    "for i in range(3):\n",
    "    V-= G*masses[i]*masses[(i+1)%3]/smp.sqrt((pos[i*2]-pos[((i+1)%3)*2])**2+(pos[i*2+1]-pos[((i+1)%3)*2+1])**2)\n",
    "    \n",
    "L=T-V\n",
    "#EOF is just an array containing all 6 lagrangians for all 6 coordinates\n",
    "EOF = []\n",
    "for i in range(len(pos)):\n",
    "    EOF.append(smp.diff(L,pos[i])-smp.diff(smp.diff(L,vel[i]),t))"
   ]
  },
  {
   "cell_type": "code",
   "execution_count": 38,
   "id": "118a4dcf",
   "metadata": {},
   "outputs": [],
   "source": [
    "#Here all 6 lagrangians are being solved for the double derivative of each coordinate\n",
    "slvx1 = smp.solve(EOF[0],acc[0])\n",
    "slvy1 = smp.solve(EOF[1],acc[1])\n",
    "\n",
    "slvx2 = smp.solve(EOF[2],acc[2])\n",
    "slvy2 = smp.solve(EOF[3],acc[3])\n",
    "\n",
    "\n",
    "slvx3 = smp.solve(EOF[4],acc[4])\n",
    "slvy3 = smp.solve(EOF[5],acc[5])"
   ]
  },
  {
   "cell_type": "code",
   "execution_count": 39,
   "id": "5d8e4232",
   "metadata": {},
   "outputs": [],
   "source": [
    "#decided to pu the solved lagrangians in a matrix\n",
    "sol = smp.Matrix([slvx1,slvy1,slvx2,slvy2,slvx3,slvy3])"
   ]
  },
  {
   "cell_type": "code",
   "execution_count": 40,
   "id": "42f74693",
   "metadata": {},
   "outputs": [],
   "source": [
    "#next we lambdify the functions to prepare them for numerical calculation\n",
    "\n",
    "\n",
    "\n",
    "da1dt_f = smp.lambdify((t,G,m1,m2,m3,x1,y1,x2,y2,x3,y3), sol[0])\n",
    "dx1dt_f = smp.lambdify(vel[0],vel[0])\n",
    "db1dt_f = smp.lambdify((t,G,m1,m2,m3,x1,y1,x2,y2,x3,y3), sol[1])\n",
    "dy1dt_f = smp.lambdify(vel[1],vel[1])\n",
    "\n",
    "da2dt_f = smp.lambdify((t,G,m1,m2,m3,x1,y1,x2,y2,x3,y3), sol[2])\n",
    "dx2dt_f = smp.lambdify(vel[2],vel[2])\n",
    "db2dt_f = smp.lambdify((t,G,m1,m2,m3,x1,y1,x2,y2,x3,y3), sol[3])\n",
    "dy2dt_f = smp.lambdify(vel[3],vel[3])\n",
    "\n",
    "da3dt_f = smp.lambdify((t,G,m1,m2,m3,x1,y1,x2,y2,x3,y3), sol[4])\n",
    "dx3dt_f = smp.lambdify(vel[4],vel[4])\n",
    "db3dt_f = smp.lambdify((t,G,m1,m2,m3,x1,y1,x2,y2,x3,y3), sol[5])\n",
    "dy3dt_f = smp.lambdify(vel[5],vel[5])"
   ]
  },
  {
   "cell_type": "code",
   "execution_count": 41,
   "id": "eb3f8f51",
   "metadata": {},
   "outputs": [],
   "source": [
    "#Setting up he function definition for the ODE solver with our lambdified function\n",
    "def dSdt(S,t,G,m1,m2,m3):\n",
    "    #These are our initial conditions of borh our coordinates and speeds, a and b being our x and y speeds respectively\n",
    "    x1, a1, y1, b1, x2, a2, y2, b2, x3, a3, y3, b3 = S\n",
    "\n",
    "    # Calculate derivatives\n",
    "    dx1dt = dx1dt_f(a1)\n",
    "    da1dt = da1dt_f(t, G, m1, m2, m3, x1, y1, x2, y2, x3, y3)\n",
    "    dy1dt = dy1dt_f(b1)\n",
    "    db1dt = db1dt_f(t, G, m1, m2, m3, x1, y1, x2, y2, x3, y3)\n",
    "\n",
    "    dx2dt = dx2dt_f(a2)\n",
    "    da2dt = da2dt_f(t, G, m1, m2, m3, x1, y1, x2, y2, x3, y3)\n",
    "    dy2dt = dy2dt_f(b2)\n",
    "    db2dt = db2dt_f(t, G, m1, m2, m3, x1, y1, x2, y2, x3, y3)\n",
    "\n",
    "    dx3dt = dx3dt_f(a3)\n",
    "    da3dt = da3dt_f(t, G, m1, m2, m3, x1, y1, x2, y2, x3, y3)\n",
    "    dy3dt = dy3dt_f(b3)\n",
    "    db3dt = db3dt_f(t, G, m1, m2, m3, x1, y1, x2, y2, x3, y3)\n",
    "\n",
    "    # Return all derivatives as a flat list in the correct order\n",
    "    return [\n",
    "        dx1dt, da1dt, dy1dt, db1dt,\n",
    "        dx2dt, da2dt, dy2dt, db2dt,\n",
    "        dx3dt, da3dt, dy3dt, db3dt\n",
    "    ]"
   ]
  },
  {
   "cell_type": "code",
   "execution_count": 42,
   "id": "041899dd",
   "metadata": {},
   "outputs": [],
   "source": [
    "#setting up a linespace for time for the output to correlate with\n",
    "t = np.linspace(0,40,1000)\n",
    "#All equal mass\n",
    "m1,m2,m3 = 1,1,1\n",
    "\n",
    "#Initial Positions\n",
    "x1 = -1\n",
    "y1 = 0\n",
    "x2 = 1\n",
    "y2 = 0\n",
    "x3 = 0\n",
    "y3 = 2\n",
    "#Initial velocities\n",
    "vx1, vy1 = 0 , 0.5\n",
    "vx2, vy2 = 0 , -0.5\n",
    "vx3 = .3\n",
    "vy3 = 0\n",
    "#set G=4 for simplicity\n",
    "G=4\n",
    "\n",
    "#putting the function dSdT with initial conditions through ODE int to solve the systems of equations\n",
    "ans = odeint(dSdt, y0=[x1,vx2,y2,vy1,x2,vx2,y2,vy2,x3,vx3,y3,vy3], t=t, args=(G,m1,m2,m3))"
   ]
  },
  {
   "cell_type": "code",
   "execution_count": 43,
   "id": "d22ec040",
   "metadata": {},
   "outputs": [],
   "source": [
    "#here we organize our data from ans, which is a multidimentional numpy array containing our data\n",
    "x1,y1,x2,y2,x3,y3 = ans.T[0],ans.T[2],ans.T[4],ans.T[6],ans.T[8],ans.T[10]"
   ]
  },
  {
   "cell_type": "markdown",
   "id": "a805419f",
   "metadata": {},
   "source": [
    "<h2><center>Animating the data</center></h2>\n",
    "<center>Now that we have our data we can animate it in matplotlib</center>"
   ]
  },
  {
   "cell_type": "markdown",
   "id": "ceb9d944",
   "metadata": {},
   "source": []
  },
  {
   "cell_type": "code",
   "execution_count": 44,
   "id": "132697c9",
   "metadata": {},
   "outputs": [
    {
     "data": {
      "image/png": "[encoded data removed]",
      "text/plain": [
       "<Figure size 800x800 with 1 Axes>"
      ]
     },
     "metadata": {},
     "output_type": "display_data"
    }
   ],
   "source": [
    "def animate(i):\n",
    "    #setting our animated data to our organized numpy array, the index is going to correlate to a frame of our animation\n",
    "    ln1.set_data([x1[i],x2[i],x3[i]],[y1[i],y2[i],y3[i]])\n",
    "#setting up plot stuff\n",
    "fig, ax = plt.subplots(1,1, figsize=(8,8))\n",
    "ax.set_facecolor('k')\n",
    "ax.get_xaxis().set_ticks([])\n",
    "ax.get_yaxis().set_ticks([])\n",
    "ln1, = plt.plot([],[],'ro--', lw=0.1,markersize=8)\n",
    "ax.set_ylim(-4,4)\n",
    "ax.set_xlim(-4,4)\n",
    "#the object takes in the function animate as a parameter and takes in the approperial frames and framerate interval\n",
    "ani = animation.FuncAnimation(fig,animate,frames=1000,interval=25)\n",
    "#exports as gif\n",
    "ani.save('3body.gif', writer = 'pillow', fps=25)"
   ]
  }
 ],
 "metadata": {
  "kernelspec": {
   "display_name": "Python 3 (ipykernel)",
   "language": "python",
   "name": "python3"
  },
  "language_info": {
   "codemirror_mode": {
    "name": "ipython",
    "version": 3
   },
   "file_extension": ".py",
   "mimetype": "text/x-python",
   "name": "python",
   "nbconvert_exporter": "python",
   "pygments_lexer": "ipython3",
   "version": "3.11.4"
  }
 },
 "nbformat": 4,
 "nbformat_minor": 5
}
